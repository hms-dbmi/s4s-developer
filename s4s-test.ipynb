{
 "cells": [
  {
   "cell_type": "markdown",
   "metadata": {},
   "source": [
    "# Part 1. Exploratory Data Analysis"
   ]
  },
  {
   "cell_type": "markdown",
   "metadata": {},
   "source": [
    "## Introduction\n",
    "In this evaluation we ask you questions that we expect you to answer using data. For each question we ask you to complete a series of tasks that should help guide you through the data analysis. Complete these tasks and then write a short answer to the question.\n",
    "\n",
    "#### Data\n",
    "Use an online database >> The [Sean Lahman's Baseball Database](http://seanlahman.com/baseball-archive/statistics) which contains the \"complete batting and pitching statistics from 1871 to 2013, plus fielding statistics, standings, team stats, managerial records, post-season data, and more. For more details on the latest release, please [read the documentation](http://seanlahman.com/files/database/readme2012.txt).\"\n",
    "\n",
    "#### Purpose\n",
    "Three main goals for you to demonstrate: \n",
    "a. Load in CSV files from the web. \n",
    "b. Create functions in python. \n",
    "C. Create plots and summary statistics for exploratory data analysis such as histograms, boxplots and scatter plots. \n",
    "\n",
    "#### Useful libraries for this test \n",
    "* [numpy](http://docs.scipy.org/doc/numpy-dev/user/index.html), for arrays\n",
    "* [pandas](http://pandas.pydata.org/), for data frames\n",
    "* [matplotlib](http://matplotlib.org/), for plotting\n",
    "\n",
    "---"
   ]
  },
  {
   "cell_type": "code",
   "execution_count": null,
   "metadata": {
    "jupyter": {
     "outputs_hidden": false
    }
   },
   "outputs": [],
   "source": [
    "# special IPython command to prepare the notebook for matplotlib\n",
    "%matplotlib inline \n",
    "\n",
    "import numpy\n",
    "import pandas\n",
    "import matplotlib.pyplot as plt"
   ]
  },
  {
   "cell_type": "markdown",
   "metadata": {},
   "source": [
    "### Problem setup\n",
    "\n",
    "There is evidence that the 2002 and 2003 Oakland A's, a team that used data science, had a competitive advantage. It's widely known now that baseball relies heavily on data science and other teams have started using these methods as well. Use exploratory data analysis to determine if the competitive advantage still exists. "
   ]
  },
  {
   "cell_type": "markdown",
   "metadata": {},
   "source": [
    "#### Problem 1(a) \n",
    "Load in [these CSV files](http://seanlahman.com/files/database/lahman-csv_2014-02-14.zip) from the [Sean Lahman's Baseball Database](http://seanlahman.com/baseball-archive/statistics). \n",
    "\n",
    "This task only uses the 'Salaries.csv' and 'Teams.csv' tables. Read these tables into a pandas `DataFrame` and show the head of each table. \n",
    "\n",
    "**Hint** Use the [requests](http://docs.python-requests.org/en/latest/), [BytesIO](https://docs.python.org/3.7/library/io.html#binary-i-o) and [zipfile](https://docs.python.org/3.7/library/zipfile.html) modules to get from the web.   "
   ]
  },
  {
   "cell_type": "code",
   "execution_count": null,
   "metadata": {
    "jupyter": {
     "outputs_hidden": false
    }
   },
   "outputs": [],
   "source": [
    "#your code here"
   ]
  },
  {
   "cell_type": "markdown",
   "metadata": {},
   "source": [
    "#### Problem 1(b)\n",
    "\n",
    "Summarize the Salaries DataFrame to show the total salaries for each team for each year. Show the head of the new summarized DataFrame. "
   ]
  },
  {
   "cell_type": "code",
   "execution_count": null,
   "metadata": {
    "jupyter": {
     "outputs_hidden": false
    }
   },
   "outputs": [],
   "source": [
    "#your code here"
   ]
  },
  {
   "cell_type": "markdown",
   "metadata": {},
   "source": [
    "#### Problem 1(c)\n",
    "\n",
    "Merge the new summarized Salaries DataFrame and Teams DataFrame together to create a new DataFrame\n",
    "showing wins and total salaries for each team for each year year. Show the head of the new merged DataFrame.\n",
    "\n",
    "**Hint**: Merge the DataFrames using `teamID` and `yearID`."
   ]
  },
  {
   "cell_type": "code",
   "execution_count": null,
   "metadata": {
    "jupyter": {
     "outputs_hidden": false
    }
   },
   "outputs": [],
   "source": [
    "#your code here"
   ]
  },
  {
   "cell_type": "markdown",
   "metadata": {},
   "source": [
    "#### Problem 1(d)\n",
    "\n",
    "How would you graphically display the relationship between total wins and total salaries for a given year? What kind of plot would be best? Choose a plot to show this relationship and specifically annotate the Oakland baseball team on the on the plot. Show this plot across multiple years. \n",
    "\n",
    "**Hints**: Use a `for` loop to consider multiple years. Use the `teamID` (three letter representation of the team name) to save space on the plot.  "
   ]
  },
  {
   "cell_type": "code",
   "execution_count": null,
   "metadata": {
    "jupyter": {
     "outputs_hidden": false
    }
   },
   "outputs": [],
   "source": [
    "#your code here"
   ]
  },
  {
   "cell_type": "markdown",
   "metadata": {},
   "source": [
    "# Part 2. Web Development"
   ]
  },
  {
   "cell_type": "markdown",
   "metadata": {},
   "source": [
    "## Introduction\n",
    "At the Department of Biomedical Informatics the Data Core assists faculty members with the creation of tools to enable cutting edge research in multidisciplinary fields. Common tasks such as data warehousing, collection, or protection are not the expertise of the clinical faculty and it’s our job to be those specialists.\n",
    "\n",
    "## Purpose\n",
    "Show off your web development chops. Share with us an online repo demonstrating a recent project, something of the web app variety.  Add a detailed README that describes the purpose of the project if it doesn't already have one; include some design details and how the solution addresses the need. Good code is important but good communication is also key to helping others use what you've built. Alternatively if you don’t have a project repo to share, then complete the example project described below.\n",
    "\n",
    "The goal here is to help us understand how you develop software as a whole, including design, documentation and testing. For this exercise, writing clear code with intentional design are the most important parts. We recognize that you probably have a lot of other things going on in your life and so this shouldn't consume more than a few hours. Submit what you think is appropriate and then we can talk through the what you've done.  We're looking to understand how you approach and solve problems. Please used either Python or Javascript for \n",
    "\n",
    "Deliverables should include:\n",
    "- source code with instructions for launching the app\n",
    "- any additional relevant files such as documentation or design diagrams\n",
    "\n",
    "#### Example project description\n",
    "A key project managed by DBMI is the Undiagnosed Diseases Network (UDN). The UDN platform is a Django Python app that collects information about participants and allows hospitals, medical centers, and research staff share and review participant information.\n",
    "\n",
    "For this test we would like you to create a small web app.  Specifically you should create two views: 1) add a participant by presenting a form that gathers details about a participant and 2) display a list of all participants with their data in a table. \n",
    "\n",
    "The form should have character input fields for \n",
    "- Participant Name\n",
    "- Participant Age\n",
    "- Does Participant have any siblings?\n",
    "- Known environmental exposures\n",
    "- Known genetic mutations\n",
    "\n",
    "After submitting information you should be redirected to the list view where each participant and the values they entered are present. \n",
    "\n",
    "**Bonus:** Add a dropdown box for each participant that would have 3 values (Not Reviewed, Reviewed - Accepted, Reviewed - Not Accepted). Changing of this dropdown should save this field alongside the participant data.\n",
    "\n"
   ]
  },
  {
   "cell_type": "code",
   "execution_count": null,
   "metadata": {},
   "outputs": [],
   "source": []
  }
 ],
 "metadata": {
  "kernelspec": {
   "display_name": "Python 3",
   "language": "python",
   "name": "python3"
  },
  "language_info": {
   "codemirror_mode": {
    "name": "ipython",
    "version": 3
   },
   "file_extension": ".py",
   "mimetype": "text/x-python",
   "name": "python",
   "nbconvert_exporter": "python",
   "pygments_lexer": "ipython3",
   "version": "3.7.4"
  }
 },
 "nbformat": 4,
 "nbformat_minor": 4
}
